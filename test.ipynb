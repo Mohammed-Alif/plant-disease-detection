{
 "cells": [
  {
   "cell_type": "code",
   "execution_count": 1,
   "metadata": {},
   "outputs": [],
   "source": [
    "# Import modules\n",
    "import os\n",
    "import torch\n",
    "from torchvision import transforms\n",
    "from torch.utils.data import DataLoader\n",
    "from torchvision.datasets import ImageFolder"
   ]
  },
  {
   "cell_type": "code",
   "execution_count": 2,
   "metadata": {},
   "outputs": [],
   "source": [
    "# Define the dataset path\n",
    "train_path = \"dataset/dataset/train\"\n",
    "test_path = \"dataset/test\""
   ]
  },
  {
   "cell_type": "code",
   "execution_count": 3,
   "metadata": {},
   "outputs": [],
   "source": [
    "# Define the data transforms\n",
    "data_transforms = {\n",
    "    \"train\": transforms.Compose([\n",
    "        transforms.RandomResizedCrop(224),\n",
    "        transforms.RandomHorizontalFlip(),\n",
    "        transforms.ToTensor(),\n",
    "        transforms.Normalize([0.485, 0.456, 0.406], [0.229, 0.224, 0.225])\n",
    "    ]),\n",
    "    \"test\": transforms.Compose([\n",
    "        transforms.Resize(256),\n",
    "        transforms.CenterCrop(224),\n",
    "        transforms.ToTensor(),\n",
    "        transforms.Normalize([0.485, 0.456, 0.406], [0.229, 0.224, 0.225])\n",
    "    ])\n",
    "}"
   ]
  },
  {
   "cell_type": "code",
   "execution_count": 4,
   "metadata": {},
   "outputs": [],
   "source": [
    "# Load the dataset\n",
    "train_data = ImageFolder(train_path, transform=data_transforms[\"train\"])\n",
    "test_data = ImageFolder(test_path, transform=data_transforms[\"test\"])\n",
    "test_images = sorted(os.listdir(test_path+\"/test\"))"
   ]
  },
  {
   "cell_type": "code",
   "execution_count": 5,
   "metadata": {},
   "outputs": [],
   "source": [
    "# Set the batch size (scale according to GPU Memory)\n",
    "batch_size = 64"
   ]
  },
  {
   "cell_type": "code",
   "execution_count": 6,
   "metadata": {},
   "outputs": [],
   "source": [
    "# Set the num_workers and pin_memory (scale according to System Memory)\n",
    "n_ws = 4\n",
    "p_m = True"
   ]
  },
  {
   "cell_type": "code",
   "execution_count": 7,
   "metadata": {},
   "outputs": [],
   "source": [
    "# Define the test dataloader\n",
    "test_loader = DataLoader(test_data, batch_size, shuffle=False, num_workers=n_ws, pin_memory=p_m)"
   ]
  },
  {
   "cell_type": "code",
   "execution_count": 8,
   "metadata": {},
   "outputs": [
    {
     "data": {
      "text/plain": [
       "device(type='cuda')"
      ]
     },
     "execution_count": 8,
     "metadata": {},
     "output_type": "execute_result"
    }
   ],
   "source": [
    "# Select the device to use for processing\n",
    "device = torch.device(\"cuda\" if torch.cuda.is_available() else \"cpu\")\n",
    "device"
   ]
  },
  {
   "cell_type": "code",
   "execution_count": 9,
   "metadata": {},
   "outputs": [],
   "source": [
    "# Load the model and move it to the device\n",
    "model = torch.jit.load(\"models/model_scripted.pt\")\n",
    "model = model.to(device)"
   ]
  },
  {
   "cell_type": "code",
   "execution_count": 10,
   "metadata": {},
   "outputs": [],
   "source": [
    "# Predict on test data\n",
    "predictions = []\n",
    "\n",
    "model.eval()\n",
    "torch.backends.cudnn.benchmark = True\n",
    "with torch.no_grad():\n",
    "    for images, labels in test_loader:\n",
    "        images = images.to(device)\n",
    "\n",
    "        # Get the predictions\n",
    "        output = model(images)\n",
    "        _, predicted = torch.max(output, 1)\n",
    "            \n",
    "        # Append the predictions to the list\n",
    "        predictions.append(predicted)\n",
    "\n",
    "# Convert the predictions to a single list\n",
    "predictions = [p.item() for sublist in predictions for p in sublist]"
   ]
  },
  {
   "cell_type": "code",
   "execution_count": 11,
   "metadata": {},
   "outputs": [
    {
     "name": "stdout",
     "output_type": "stream",
     "text": [
      "Label: AppleCedarRust1.JPG,\tPredicted: Apple___Cedar_apple_rust\n",
      "Label: AppleCedarRust2.JPG,\tPredicted: Apple___Cedar_apple_rust\n",
      "Label: AppleCedarRust3.JPG,\tPredicted: Apple___Cedar_apple_rust\n",
      "Label: AppleCedarRust4.JPG,\tPredicted: Apple___Cedar_apple_rust\n",
      "Label: AppleScab1.JPG,\tPredicted: Apple___Apple_scab\n",
      "Label: AppleScab2.JPG,\tPredicted: Apple___Apple_scab\n",
      "Label: AppleScab3.JPG,\tPredicted: Apple___Apple_scab\n",
      "Label: CornCommonRust1.JPG,\tPredicted: Corn_(maize)___Common_rust_\n",
      "Label: CornCommonRust2.JPG,\tPredicted: Corn_(maize)___Common_rust_\n",
      "Label: CornCommonRust3.JPG,\tPredicted: Corn_(maize)___Common_rust_\n",
      "Label: PotatoEarlyBlight1.JPG,\tPredicted: Potato___Early_blight\n",
      "Label: PotatoEarlyBlight2.JPG,\tPredicted: Potato___Early_blight\n",
      "Label: PotatoEarlyBlight3.JPG,\tPredicted: Potato___Early_blight\n",
      "Label: PotatoEarlyBlight4.JPG,\tPredicted: Potato___Early_blight\n",
      "Label: PotatoEarlyBlight5.JPG,\tPredicted: Potato___Early_blight\n",
      "Label: PotatoHealthy1.JPG,\tPredicted: Potato___healthy\n",
      "Label: PotatoHealthy2.JPG,\tPredicted: Potato___healthy\n",
      "Label: TomatoEarlyBlight1.JPG,\tPredicted: Tomato___Septoria_leaf_spot\n",
      "Label: TomatoEarlyBlight2.JPG,\tPredicted: Tomato___Early_blight\n",
      "Label: TomatoEarlyBlight3.JPG,\tPredicted: Tomato___Early_blight\n",
      "Label: TomatoEarlyBlight4.JPG,\tPredicted: Tomato___Early_blight\n",
      "Label: TomatoEarlyBlight5.JPG,\tPredicted: Tomato___Early_blight\n",
      "Label: TomatoEarlyBlight6.JPG,\tPredicted: Tomato___Early_blight\n",
      "Label: TomatoHealthy1.JPG,\tPredicted: Tomato___healthy\n",
      "Label: TomatoHealthy2.JPG,\tPredicted: Tomato___healthy\n",
      "Label: TomatoHealthy3.JPG,\tPredicted: Tomato___healthy\n",
      "Label: TomatoHealthy4.JPG,\tPredicted: Tomato___healthy\n",
      "Label: TomatoYellowCurlVirus1.JPG,\tPredicted: Tomato___Tomato_Yellow_Leaf_Curl_Virus\n",
      "Label: TomatoYellowCurlVirus2.JPG,\tPredicted: Tomato___Tomato_Yellow_Leaf_Curl_Virus\n",
      "Label: TomatoYellowCurlVirus3.JPG,\tPredicted: Tomato___Tomato_Yellow_Leaf_Curl_Virus\n",
      "Label: TomatoYellowCurlVirus4.JPG,\tPredicted: Tomato___Tomato_Yellow_Leaf_Curl_Virus\n",
      "Label: TomatoYellowCurlVirus5.JPG,\tPredicted: Tomato___Tomato_Yellow_Leaf_Curl_Virus\n",
      "Label: TomatoYellowCurlVirus6.JPG,\tPredicted: Tomato___Tomato_Yellow_Leaf_Curl_Virus\n"
     ]
    }
   ],
   "source": [
    "# Print the predictions and labels\n",
    "for i in range(len(predictions)):\n",
    "    label = test_images[i]\n",
    "    prediction = train_data.classes[predictions[i]]\n",
    "    print(\"Label: {},\\tPredicted: {}\".format(label, prediction))"
   ]
  }
 ],
 "metadata": {
  "kernelspec": {
   "display_name": "pt",
   "language": "python",
   "name": "python3"
  },
  "language_info": {
   "codemirror_mode": {
    "name": "ipython",
    "version": 3
   },
   "file_extension": ".py",
   "mimetype": "text/x-python",
   "name": "python",
   "nbconvert_exporter": "python",
   "pygments_lexer": "ipython3",
   "version": "3.10.9"
  },
  "orig_nbformat": 4,
  "vscode": {
   "interpreter": {
    "hash": "1a9cc220b9cb0ba669dd77126ab318e5eaa86284bb96bc8faa647305984f7ded"
   }
  }
 },
 "nbformat": 4,
 "nbformat_minor": 2
}
